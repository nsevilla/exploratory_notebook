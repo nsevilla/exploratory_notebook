{
 "metadata": {
  "name": "",
  "signature": "sha256:d240c05da9ce49c3e6cd5f128068feb5b99a611c048ab35e9c71a4eb712a89d4"
 },
 "nbformat": 3,
 "nbformat_minor": 0,
 "worksheets": [
  {
   "cells": [
    {
     "cell_type": "code",
     "collapsed": false,
     "input": [
      "import numpy as np\n",
      "import matplotlib.pyplot as plt\n",
      "from astropy.io import fits\n",
      "from astropy import coordinates as coo\n",
      "from IPython.display import Math"
     ],
     "language": "python",
     "metadata": {},
     "outputs": [],
     "prompt_number": 110
    },
    {
     "cell_type": "code",
     "collapsed": false,
     "input": [
      "hdulist_base_catalog = fits.open('cosmos_d10.fits',memmap=True)\n",
      "hdulist_r2 = fits.open('cosmos_d10_r2blind.fits',memmap=True)\n",
      "hdulist_tpc = fits.open('cosmos_d10_tpc_class.fits',memmap=True)\n",
      "\n",
      "#hdulist = fits.open('s82_test_set_TPC_colors_wavg.fits',memmap=True)"
     ],
     "language": "python",
     "metadata": {},
     "outputs": [],
     "prompt_number": 25
    },
    {
     "cell_type": "code",
     "collapsed": false,
     "input": [
      "tdata_base_catalog = hdulist_base_catalog[1].data\n",
      "tdata_r2 = hdulist_r2[1].data\n",
      "tdata_tpc = hdulist_tpc[1].data\n",
      "tdata_tpc.columns.change_name('COADD_OBJECTS_ID','COADD_OBJECTS_ID_TPC')\n",
      "print 'Base catalog from d10 supplemental (COSMOS)'\n",
      "print size(tdata_base_catalog)\n",
      "print tdata_base_catalog.columns\n",
      "print 'Matched to round 2 truth and desdmz'\n",
      "print size(tdata_r2)\n",
      "print tdata_r2.columns\n",
      "print 'TPC catalog'\n",
      "print size(tdata_tpc)\n",
      "print tdata_tpc.columns\n"
     ],
     "language": "python",
     "metadata": {},
     "outputs": [
      {
       "output_type": "stream",
       "stream": "stdout",
       "text": [
        "Base catalog from d10 supplemental (COSMOS)\n",
        "515443\n",
        "ColDefs(\n",
        "    name = 'COADD_OBJECTS_ID'; format = 'K'\n",
        "    name = 'RA'; format = 'D'\n",
        "    name = 'DEC'; format = 'D'\n",
        "    name = 'MAG_DETMODEL_G'; format = 'E'\n",
        "    name = 'MAG_DETMODEL_R'; format = 'E'\n",
        "    name = 'MAG_DETMODEL_I'; format = 'E'\n",
        "    name = 'MAG_DETMODEL_Z'; format = 'E'\n",
        "    name = 'MAG_DETMODEL_Y'; format = 'E'\n",
        "    name = 'MAG_AUTO_G'; format = 'E'\n",
        "    name = 'MAG_AUTO_R'; format = 'E'\n",
        "    name = 'MAG_AUTO_I'; format = 'E'\n",
        "    name = 'MAG_AUTO_Z'; format = 'E'\n",
        "    name = 'MAG_AUTO_Y'; format = 'E'\n",
        "    name = 'WAVG_SPREAD_MODEL_G'; format = 'E'\n",
        "    name = 'WAVG_SPREAD_MODEL_R'; format = 'E'\n",
        "    name = 'WAVG_SPREAD_MODEL_I'; format = 'E'\n",
        "    name = 'WAVG_SPREAD_MODEL_Z'; format = 'E'\n",
        "    name = 'WAVG_SPREAD_MODEL_Y'; format = 'E'\n",
        ")\n",
        "Matched to round 2 truth and desdmz\n",
        "46601\n",
        "ColDefs(\n",
        "    name = 'RA'; format = 'D'\n",
        "    name = 'DEC'; format = 'D'\n",
        "    name = 'MAG_DETMODEL_G'; format = 'E'\n",
        "    name = 'MAG_DETMODEL_R'; format = 'E'\n",
        "    name = 'MAG_DETMODEL_I'; format = 'E'\n",
        "    name = 'MAG_DETMODEL_Z'; format = 'E'\n",
        "    name = 'MAG_DETMODEL_Y'; format = 'E'\n",
        "    name = 'MAG_AUTO_G'; format = 'E'\n",
        "    name = 'MAG_AUTO_R'; format = 'E'\n",
        "    name = 'MAG_AUTO_I'; format = 'E'\n",
        "    name = 'MAG_AUTO_Z'; format = 'E'\n",
        "    name = 'MAG_AUTO_Y'; format = 'E'\n",
        "    name = 'WAVG_SPREAD_MODEL_G'; format = 'E'\n",
        "    name = 'WAVG_SPREAD_MODEL_R'; format = 'E'\n",
        "    name = 'WAVG_SPREAD_MODEL_I'; format = 'E'\n",
        "    name = 'WAVG_SPREAD_MODEL_Z'; format = 'E'\n",
        "    name = 'WAVG_SPREAD_MODEL_Y'; format = 'E'\n",
        "    name = 'modest_class'; format = 'I'\n",
        "    name = 'desdmz'; format = 'E'\n",
        "    name = 'desdmz_err'; format = 'E'\n",
        "    name = 'true_class'; format = 'I'\n",
        ")\n",
        "TPC catalog\n",
        "515443\n",
        "ColDefs(\n",
        "    name = 'COADD_OBJECTS_ID_TPC'; format = 'K'\n",
        "    name = 'TPC_CLASS'; format = 'E'\n",
        ")\n"
       ]
      }
     ],
     "prompt_number": 26
    },
    {
     "cell_type": "code",
     "collapsed": false,
     "input": [
      "#merge files base and TPC files\n",
      "base_cols = tdata_base_catalog.columns\n",
      "tpc_cols = tdata_tpc.columns\n",
      "hdulist_merged_base_tpc = fits.BinTableHDU.from_columns(base_cols + tpc_cols)\n",
      "hdulist_merged_base_tpc.writeto('cosmos_d10_tpc_merged.fits',clobber=True)\n",
      "tdata_merged = hdulist_merged_base_tpc.data\n"
     ],
     "language": "python",
     "metadata": {},
     "outputs": [],
     "prompt_number": 28
    },
    {
     "cell_type": "code",
     "collapsed": false,
     "input": [
      "#match merged file with round 2 blind set \n",
      "merged_positions = coo.SkyCoord(tdata_merged['RA'],tdata_merged['DEC'],unit='deg')\n",
      "r2_positions = coo.SkyCoord(tdata_r2['RA'],tdata_r2['DEC'],unit='deg')\n",
      "matched_coo = coo.match_coordinates_sky(merged_positions,r2_positions)\n",
      "matched_indices = matched_coo[0] # indices of ext_positions for each position in des_positions\n",
      "matched_angles = matched_coo[1] # separation angle\n",
      "\n",
      "#Create new file with matched information\n",
      "mask_matches = np.zeros(size(matched_coo[0]),dtype='bool') #initializing mask_matches to False\n",
      "separation = coo.Angle('0d0m1s') # 1 arcsecond matching radius\n",
      "match = np.where((matched_angles) < separation) #indices of DES data array where the separation in the matching was found to be < 1\"\n",
      "mask_matches[match] = True # set mask_matches values to 'True' at the indices discovered above\n",
      "\n",
      "tbhdu_1 = fits.BinTableHDU(tdata_merged[mask_matches == True])\n",
      "tbhdu_1.writeto('tmp1.fits',clobber=True)\n",
      "tbhdu_2 = fits.BinTableHDU(tdata_r2[matched_indices][mask_matches == True])\n",
      "tbhdu_2.writeto('tmp2.fits',clobber=True)\n",
      "\n",
      "t1 = fits.open('tmp1.fits')\n",
      "t2 = fits.open('tmp2.fits')\n",
      "\n",
      "c1 = fits.Column(name='desdmz', format='E', array=t2[1].data.field('desdmz'))\n",
      "c2 = fits.Column(name='true_class', format='I', array=t2[1].data.field('true_class'))\n",
      "tbhdu_out = fits.BinTableHDU.from_columns(t1[1].columns + c1 + c2)\n",
      "tdata_matched = tbhdu_out.data\n",
      "\n",
      "tbhdu_out.writeto('matched4benchmark.fits',clobber=True)\n",
      "\n"
     ],
     "language": "python",
     "metadata": {},
     "outputs": [
      {
       "output_type": "stream",
       "stream": "stdout",
       "text": [
        "<class 'astropy.io.fits.hdu.table.BinTableHDU'>\n"
       ]
      }
     ],
     "prompt_number": 45
    },
    {
     "cell_type": "code",
     "collapsed": false,
     "input": [
      "mask_benchmark_lo = tdata_matched['MAG_AUTO_I'] > 18\n",
      "mask_benchmark_hi = tdata_matched['MAG_AUTO_I'] < 22.5\n",
      "mask_benchmark = mask_benchmark_lo & mask_benchmark_hi\n",
      "mask_true_gal = tdata_matched['true_class'] == 0\n",
      "mask_true_sta = tdata_matched['true_class'] == 1\n",
      "#mask_true_gal = tdata['SDSS_SPEC_CLASS'] == 0\n",
      "#mask_true_sta = tdata['SDSS_SPEC_CLASS'] == 1\n",
      "mask_wavg_gal = tdata_matched['WAVG_SPREAD_MODEL_I'] > 0.003\n",
      "mask_wavg_sta = abs(tdata_matched['WAVG_SPREAD_MODEL_I']) < 0.003\n",
      "#mask_mod_gal = tdata['modest_class'] == 1\n",
      "#mask_mod_sta = tdata['modest_class'] == 2\n",
      "mask_tpc_gal = tdata_matched['TPC_CLASS'] < 0.001\n",
      "mask_tpc_sta = tdata_matched['TPC_CLASS'] > 0.001\n",
      "print float(tdata_matched['MAG_AUTO_I'][mask_benchmark & mask_true_gal & mask_wavg_gal].shape[0])"
     ],
     "language": "python",
     "metadata": {},
     "outputs": [
      {
       "output_type": "stream",
       "stream": "stdout",
       "text": [
        "6333.0\n"
       ]
      }
     ],
     "prompt_number": 51
    },
    {
     "cell_type": "heading",
     "level": 5,
     "metadata": {},
     "source": [
      "Purity definition"
     ]
    },
    {
     "cell_type": "markdown",
     "metadata": {},
     "source": [
      "Math(r'P = \\frac{N_{passed_and_true_gal}{N_{passed_gal}}')"
     ]
    },
    {
     "cell_type": "code",
     "collapsed": false,
     "input": [
      "zarray = np.array([0.2,0.4,0.6,0.8,1.0])\n",
      "purity_wavg = np.empty(5)\n",
      "dpurity_wavg = np.empty([2,5])\n",
      "purity_tpc = np.empty(5)\n",
      "dpurity_tpc = np.empty([2,5])\n",
      "lower_error_wavg = np.empty(5)\n",
      "upper_error_wavg = np.empty(5)\n",
      "lower_error_tpc = np.empty(5)\n",
      "upper_error_tpc = np.empty(5)\n",
      "zmid = np.empty(5)\n",
      "zmid2 = np.empty(5)\n",
      "#print float(tdata['MAG_AUTO_I'][mask_benchmark].shape[0])\n",
      "#mask = mask_benchmark & \n",
      "\n",
      "for counter,zbin_min in enumerate(zarray):\n",
      "    #redshift bin\n",
      "    mask_zlo = tdata_matched['desdmz'] > zbin_min\n",
      "    mask_zhi = tdata_matched['desdmz'] < zbin_min + 0.2\n",
      "    zmid[counter] = zbin_min + 0.1\n",
      "    zmid2[counter] = zbin_min + 0.11\n",
      "\n",
      "    #calculate number of true galaxies\n",
      "    mask = mask_true_gal & mask_zlo & mask_zhi & mask_benchmark\n",
      "    n_true_gal = float(tdata_matched['MAG_AUTO_I'][mask].shape[0])\n",
      "    #calculate number of true stars\n",
      "    mask = mask_true_sta & mask_zlo & mask_zhi & mask_benchmark\n",
      "    n_true_sta = float(tdata_matched['MAG_AUTO_I'][mask].shape[0])\n",
      "    \n",
      "    mixture = n_true_gal/(n_true_gal + n_true_sta)\n",
      "    \n",
      "    #calculate number of true and identified galaxies    \n",
      "    mask = mask_true_gal & mask_tpc_gal & mask_zlo & mask_zhi & mask_benchmark\n",
      "    n_true_passed_tpc_gal = float(tdata_matched['MAG_AUTO_I'][mask].shape[0])\n",
      "    mask = mask_true_gal & mask_wavg_gal & mask_zlo & mask_zhi & mask_benchmark\n",
      "    #mask = mask_true_gal & mask_mod_gal & mask_zlo & mask_zhi & mask_benchmark\n",
      "    n_true_passed_wavg_gal = float(tdata_matched['MAG_AUTO_I'][mask].shape[0])\n",
      "    #calculate number of identified galaxies\n",
      "    mask = mask_tpc_gal & mask_zlo & mask_zhi & mask_benchmark\n",
      "    n_passed_tpc_gal = float(tdata_matched['MAG_AUTO_I'][mask].shape[0])\n",
      "    mask = mask_wavg_gal & mask_zlo & mask_zhi & mask_benchmark\n",
      "    #mask = mask_mod_gal & mask_zlo & mask_zhi & mask_benchmark    \n",
      "    n_passed_wavg_gal = float(tdata_matched['MAG_AUTO_I'][mask].shape[0])\n",
      "    \n",
      "    print n_true_passed_wavg_gal,n_passed_wavg_gal\n",
      "    print n_true_passed_tpc_gal,n_passed_tpc_gal\n",
      "    \n",
      "    purity_wavg[counter] = n_true_passed_wavg_gal/n_passed_wavg_gal\n",
      "    #dpurity_wavg[counter] = 1/n_passed_wavg_gal\n",
      "    #dpurity_wavg[counter] = dpurity_wavg[counter]*np.sqrt(n_true_passed_wavg_gal*\n",
      "                                                          #(1-n_true_passed_wavg_gal/n_passed_wavg_gal)) #binomial error\n",
      "    purity_tpc[counter] = n_true_passed_tpc_gal/n_passed_tpc_gal\n",
      "    #dpurity_tpc[counter] = 1/n_passed_tpc_gal\n",
      "    #dpurity_tpc[counter] = dpurity_tpc[counter]*np.sqrt(n_true_passed_tpc_gal*\n",
      "                                                          #(1-n_true_passed_tpc_gal/n_passed_tpc_gal)) #binomial error    \n",
      "\n",
      "    #print zbin_min,'-',zbin_min + 0.2,purity_wavg[counter],'+-',dpurity_wavg[counter],purity_tpc[counter],'+-',dpurity_tpc[counter]\n",
      "    print\n",
      "\n",
      "lower_error_wavg = np.array([0.2,0.3,0.5,0.3,0.7])*0.01\n",
      "upper_error_wavg = np.array([0.1,0.2,0.3,0.2,0.3])*0.01\n",
      "dpurity_wavg = np.vstack((lower_error_wavg,upper_error_wavg))\n",
      "print purity_wavg\n",
      "print dpurity_wavg\n",
      "lower_error_tpc = np.array([0.2,0.2,0.3,0.3,0.7])*0.01\n",
      "upper_error_tpc = np.array([0.1,0.2,0.2,0.2,0.5])*0.01\n",
      "dpurity_tpc = np.vstack((lower_error_tpc,upper_error_tpc))\n",
      "print purity_tpc\n",
      "print dpurity_tpc\n",
      "\n",
      "plt.errorbar(zmid, purity_wavg, yerr=dpurity_wavg, c='red', linestyle=\"None\", fmt='o', \n",
      "             label='WAVG_SPREAD_MODEL_I (0.003 cut)')\n",
      "plt.errorbar(zmid2, purity_tpc, yerr=dpurity_tpc, c='blue', linestyle=\"None\", fmt='o', \n",
      "             label='TPC (0.001 cut)')\n",
      "plt.xlim([0.1,1.3])\n",
      "plt.ylim([0.95,1.0])\n",
      "plt.xlabel('Photo-z')\n",
      "plt.ylabel('Purity of galaxy sample in COSMOS field')\n",
      "plt.legend(loc='lower right')    "
     ],
     "language": "python",
     "metadata": {},
     "outputs": [
      {
       "output_type": "stream",
       "stream": "stdout",
       "text": [
        "1568.0 1575.0\n",
        "1572.0 1579.0\n",
        "\n",
        "1585.0 1599.0\n",
        "1573.0 1583.0\n",
        "\n",
        "1388.0 1419.0\n",
        "1359.0 1374.0\n",
        "\n",
        "1182.0 1193.0\n",
        "1160.0 1167.0\n",
        "\n",
        "226.0 227.0\n",
        "227.0 229.0\n",
        "\n",
        "[ 0.99555556  0.99124453  0.97815363  0.99077955  0.99559471]\n",
        "[[ 0.002  0.003  0.005  0.003  0.007]\n",
        " [ 0.001  0.002  0.003  0.002  0.003]]\n",
        "[ 0.99556681  0.99368288  0.98908297  0.99400171  0.99126638]\n",
        "[[ 0.002  0.002  0.003  0.003  0.007]\n",
        " [ 0.001  0.002  0.002  0.002  0.005]]\n"
       ]
      },
      {
       "metadata": {},
       "output_type": "pyout",
       "prompt_number": 187,
       "text": [
        "<matplotlib.legend.Legend at 0x7f086ed3c310>"
       ]
      },
      {
       "metadata": {},
       "output_type": "display_data",
       "png": "[encoded data removed]",
       "text": [
        "<matplotlib.figure.Figure at 0x7f0872cabdd0>"
       ]
      }
     ],
     "prompt_number": 187
    },
    {
     "cell_type": "code",
     "collapsed": false,
     "input": [
      "print math.lgamma(3000)"
     ],
     "language": "python",
     "metadata": {},
     "outputs": [
      {
       "output_type": "stream",
       "stream": "stdout",
       "text": [
        "21016.0184855\n"
       ]
      }
     ],
     "prompt_number": 65
    },
    {
     "cell_type": "code",
     "collapsed": true,
     "input": [
      "from scipy.integrate import quad\n",
      "def pdf(eps,N,k):\n",
      "    lnorm = math.lgamma(N+2)-math.lgamma(k+1)-math.lgamma(N-k+1)\n",
      "    val = lnorm + k*np.log(eps) + (N-k)*np.log(1-eps)\n",
      "    #print lnorm,k*np.log(eps),(N-k)*np.log(1-eps),val\n",
      "    return np.exp(val)\n",
      "k=1568\n",
      "N=1575\n",
      "eps=float(k)/float(N)\n",
      "confidence_level = 0.678\n",
      "print 'N=',N,'k=',k,'eps=',eps\n",
      "#print pdf(eps,N,k)\n",
      "x = np.arange(0.0001,0.9999,0.001)\n",
      "y = pdf(x,N,k)\n",
      "plt.plot(x,y)\n",
      "#integral for error estimate\n",
      "interval_list = [] # not much difference using numpy and this way I can use append\n",
      "xa = np.arange(0.95,0.9999,0.0001)\n",
      "counter = 0\n",
      "for alpha in xa:\n",
      "    xb = np.arange(alpha,0.9999,0.0001)\n",
      "    for beta in xb:\n",
      "        if counter % 10000 == 0:\n",
      "            print 'Integrating range',alpha,'-',beta,'...'\n",
      "        I = quad(pdf,alpha,beta,args=(N,k))\n",
      "        counter = counter + 1\n",
      "        if I[0] > confidence_level:            \n",
      "            interval_list.append([beta-alpha,alpha,beta])\n",
      "            break\n",
      "\n",
      "print 'Efficiency =',eps\n",
      "minimum_integral = np.amin(interval_list,axis=0)[0] # should match confidence level\n",
      "minimum_index = np.argmin(interval_list,axis=0)[0]\n",
      "print 'Minimum',confidence_level*100,'% interval = ',minimum_integral,' at ',minimum_index,'range:',interval_list[minimum_index][1],'-',interval_list[minimum_index][2]\n",
      "print eps,'+',interval_list[minimum_index][2]-eps,'-',eps-interval_list[minimum_index][1]"
     ],
     "language": "python",
     "metadata": {},
     "outputs": [
      {
       "output_type": "stream",
       "stream": "stdout",
       "text": [
        "N= 1575 k= 1568 eps= 0.995555555556\n",
        "Integrating range 0.95 - 0.95 ...\n",
        "Integrating range"
       ]
      },
      {
       "output_type": "stream",
       "stream": "stdout",
       "text": [
        " 0.9522 - 0.9633 ...\n",
        "Integrating range"
       ]
      },
      {
       "output_type": "stream",
       "stream": "stdout",
       "text": [
        " 0.9545 - 0.9835 ...\n",
        "Integrating range"
       ]
      },
      {
       "output_type": "stream",
       "stream": "stdout",
       "text": [
        " 0.957 - 0.9785 ...\n",
        "Integrating range"
       ]
      },
      {
       "output_type": "stream",
       "stream": "stdout",
       "text": [
        " 0.9597 - 0.9633 ...\n",
        "Integrating range"
       ]
      },
      {
       "output_type": "stream",
       "stream": "stdout",
       "text": [
        " 0.9625 - 0.9875 ...\n",
        "Integrating range"
       ]
      },
      {
       "output_type": "stream",
       "stream": "stdout",
       "text": [
        " 0.9657 - 0.9683 ...\n",
        "Integrating range"
       ]
      },
      {
       "output_type": "stream",
       "stream": "stdout",
       "text": [
        " 0.9692 - 0.9708 ...\n",
        "Integrating range"
       ]
      },
      {
       "output_type": "stream",
       "stream": "stdout",
       "text": [
        " 0.9732 - 0.9808 ...\n",
        "Integrating range"
       ]
      },
      {
       "output_type": "stream",
       "stream": "stdout",
       "text": [
        " 0.9781 - 0.9861 ...\n",
        "Integrating range"
       ]
      },
      {
       "output_type": "stream",
       "stream": "stdout",
       "text": [
        " 0.985 - 0.9925 ...\n",
        "Efficiency ="
       ]
      },
      {
       "output_type": "stream",
       "stream": "stdout",
       "text": [
        " 0.995555555556\n",
        "Minimum 67.8 % interval =  0.0034  at  435 range: 0.9935 - 0.9969\n",
        "0.995555555556 + 0.00134444444444 - 0.00205555555556\n"
       ]
      },
      {
       "metadata": {},
       "output_type": "display_data",
       "png": "[encoded data removed]",
       "text": [
        "<matplotlib.figure.Figure at 0x7f0872d05910>"
       ]
      }
     ],
     "prompt_number": 170
    },
    {
     "cell_type": "code",
     "collapsed": false,
     "input": [
      "intervals = np.empty(3)\n",
      "#print intervals\n",
      "intervals = np.vstack((intervals,[1,0,1]))\n",
      "#print intervals\n",
      "intervals = np.vstack((intervals,[2,0,2]))\n",
      "print intervals\n",
      "print np.amin(intervals,axis=0)[0]\n",
      "\n",
      "intervals_list = []\n",
      "#print intervals_list\n",
      "intervals_list.append([1,0,1])\n",
      "#print intervals_list\n",
      "intervals_list.append([2,-4,2])\n",
      "print intervals_list\n",
      "print np.argmin(intervals_list,axis=0)\n",
      "print intervals_list[1][1]\n"
     ],
     "language": "python",
     "metadata": {},
     "outputs": [
      {
       "output_type": "stream",
       "stream": "stdout",
       "text": [
        "[[  0.00000000e+000   4.94065646e-324   0.00000000e+000]\n",
        " [  1.00000000e+000   0.00000000e+000   1.00000000e+000]\n",
        " [  2.00000000e+000   0.00000000e+000   2.00000000e+000]]\n",
        "0.0\n",
        "[[1, 0, 1], [2, -4, 2]]\n",
        "[0 1 0]\n",
        "-4\n"
       ]
      }
     ],
     "prompt_number": 149
    },
    {
     "cell_type": "code",
     "collapsed": false,
     "input": [
      "plt.scatter(tdata['WAVG_SPREAD_MODEL_I'][mask_benchmark & mask_true_gal],\n",
      "            tdata['desdmz'][mask_benchmark & mask_true_gal],(100,100),color='b',marker='.')\n",
      "plt.scatter(tdata['WAVG_SPREAD_MODEL_I'][mask_benchmark & mask_true_sta],\n",
      "           tdata['desdmz'][mask_benchmark & mask_true_sta],color='r',marker='.')\n",
      "plt.axvline(x=0.003, ymin=0.0, ymax = 1.4, linewidth=1, color='k')\n"
     ],
     "language": "python",
     "metadata": {},
     "outputs": [
      {
       "ename": "IndexError",
       "evalue": "index 46624 is out of bounds for axis 1 with size 46601",
       "output_type": "pyerr",
       "traceback": [
        "\u001b[1;31m---------------------------------------------------------------------------\u001b[0m\n\u001b[1;31mIndexError\u001b[0m                                Traceback (most recent call last)",
        "\u001b[1;32m<ipython-input-119-684535cb2e26>\u001b[0m in \u001b[0;36m<module>\u001b[1;34m()\u001b[0m\n\u001b[1;32m----> 1\u001b[1;33m plt.scatter(tdata['WAVG_SPREAD_MODEL_I'][mask_benchmark & mask_true_gal],\n\u001b[0m\u001b[0;32m      2\u001b[0m             tdata['desdmz'][mask_benchmark & mask_true_gal],(100,100),color='b',marker='.')\n\u001b[0;32m      3\u001b[0m plt.scatter(tdata['WAVG_SPREAD_MODEL_I'][mask_benchmark & mask_true_sta],\n\u001b[0;32m      4\u001b[0m            tdata['desdmz'][mask_benchmark & mask_true_sta],color='r',marker='.')\n\u001b[0;32m      5\u001b[0m \u001b[0mplt\u001b[0m\u001b[1;33m.\u001b[0m\u001b[0maxvline\u001b[0m\u001b[1;33m(\u001b[0m\u001b[0mx\u001b[0m\u001b[1;33m=\u001b[0m\u001b[1;36m0.003\u001b[0m\u001b[1;33m,\u001b[0m \u001b[0mymin\u001b[0m\u001b[1;33m=\u001b[0m\u001b[1;36m0.0\u001b[0m\u001b[1;33m,\u001b[0m \u001b[0mymax\u001b[0m \u001b[1;33m=\u001b[0m \u001b[1;36m1.4\u001b[0m\u001b[1;33m,\u001b[0m \u001b[0mlinewidth\u001b[0m\u001b[1;33m=\u001b[0m\u001b[1;36m1\u001b[0m\u001b[1;33m,\u001b[0m \u001b[0mcolor\u001b[0m\u001b[1;33m=\u001b[0m\u001b[1;34m'k'\u001b[0m\u001b[1;33m)\u001b[0m\u001b[1;33m\u001b[0m\u001b[0m\n",
        "\u001b[1;31mIndexError\u001b[0m: index 46624 is out of bounds for axis 1 with size 46601"
       ]
      }
     ],
     "prompt_number": 119
    },
    {
     "cell_type": "code",
     "collapsed": false,
     "input": [],
     "language": "python",
     "metadata": {},
     "outputs": []
    }
   ],
   "metadata": {}
  }
 ]
}