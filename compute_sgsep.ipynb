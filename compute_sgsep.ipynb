{
 "metadata": {
  "name": "",
  "signature": "sha256:f74adcee57e11e772ad21fd01a3e11fb57be6580826a197d4c54de2cab6fa5cf"
 },
 "nbformat": 3,
 "nbformat_minor": 0,
 "worksheets": [
  {
   "cells": [
    {
     "cell_type": "code",
     "collapsed": false,
     "input": [
      "import numpy as np\n",
      "import matplotlib.pyplot as plt\n",
      "from astropy.io import fits\n",
      "from IPython.display import Math"
     ],
     "language": "python",
     "metadata": {},
     "outputs": [],
     "prompt_number": 1
    },
    {
     "cell_type": "code",
     "collapsed": false,
     "input": [
      "hdulist = fits.open('cosmos_d10_r2blind.fits',memmap=True)\n",
      "#hdulist = fits.open('s82_test_set_TPC_colors_wavg.fits',memmap=True)"
     ],
     "language": "python",
     "metadata": {},
     "outputs": [],
     "prompt_number": 22
    },
    {
     "cell_type": "code",
     "collapsed": false,
     "input": [
      "tdata = hdulist[1].data"
     ],
     "language": "python",
     "metadata": {},
     "outputs": [],
     "prompt_number": 23
    },
    {
     "cell_type": "code",
     "collapsed": false,
     "input": [
      "mask_benchmark_lo = tdata['MAG_AUTO_I'] > 18\n",
      "mask_benchmark_hi = tdata['MAG_AUTO_I'] < 22.5\n",
      "mask_benchmark = mask_benchmark_lo & mask_benchmark_hi\n",
      "mask_true_gal = tdata['true_class'] == 0\n",
      "mask_true_sta = tdata['true_class'] == 1\n",
      "#mask_true_gal = tdata['SDSS_SPEC_CLASS'] == 0\n",
      "#mask_true_sta = tdata['SDSS_SPEC_CLASS'] == 1\n",
      "mask_wavg_gal = tdata['WAVG_SPREAD_MODEL_I'] > 0.003\n",
      "mask_wavg_sta = abs(tdata['WAVG_SPREAD_MODEL_I']) < 0.003\n",
      "mask_mod_gal = tdata['modest_class'] == 1\n",
      "mask_mod_sta = tdata['modest_class'] == 2\n",
      "print float(tdata['MAG_AUTO_I'][mask_benchmark & mask_true_gal & mask_wavg_gal].shape[0])"
     ],
     "language": "python",
     "metadata": {},
     "outputs": [
      {
       "output_type": "stream",
       "stream": "stdout",
       "text": [
        "6331.0\n"
       ]
      }
     ],
     "prompt_number": 32
    },
    {
     "cell_type": "heading",
     "level": 5,
     "metadata": {},
     "source": [
      "Purity definition"
     ]
    },
    {
     "cell_type": "markdown",
     "metadata": {},
     "source": [
      "Math(r'P = \\frac{N_{passed_and_true_gal}{N_{passed_gal}}')"
     ]
    },
    {
     "cell_type": "code",
     "collapsed": false,
     "input": [
      "zarray = np.array([0.2,0.4,0.6,0.8,1.0])\n",
      "purity = np.empty(5)\n",
      "dpurity = np.empty(5)\n",
      "zmid = np.empty(5)\n",
      "#print float(tdata['MAG_AUTO_I'][mask_benchmark].shape[0])\n",
      "#mask = mask_benchmark & \n",
      "for counter,zbin_min in enumerate(zarray):\n",
      "    mask_zlo = tdata['desdmz'] > zbin_min\n",
      "    mask_zhi = tdata['desdmz'] < zbin_min + 0.2\n",
      "    zmid[counter] = zbin_min + 0.1\n",
      "    #mask_zlo = tdata['ZP'] > zbin_min\n",
      "    #mask_zhi = tdata['ZP'] < zbin_min + 0.2\n",
      "    mask = mask_true_gal & mask_zlo & mask_zhi & mask_benchmark\n",
      "    n_true_gal = float(tdata['MAG_AUTO_I'][mask].shape[0])\n",
      "    mask = mask_true_sta & mask_zlo & mask_zhi & mask_benchmark\n",
      "    n_true_sta = float(tdata['MAG_AUTO_I'][mask].shape[0])\n",
      "    mixture = n_true_gal/(n_true_gal + n_true_sta)\n",
      "    #print zbin_min,'-',zbin_min + 0.2,mixture\n",
      "    #mask = mask_true_gal & mask_wavg_gal & mask_zlo & mask_zhi & mask_benchmark\n",
      "    mask = mask_true_gal & mask_mod_gal & mask_zlo & mask_zhi & mask_benchmark\n",
      "    n_true_passed_gal = float(tdata['MAG_AUTO_I'][mask].shape[0])\n",
      "    #mask = mask_wavg_gal & mask_zlo & mask_zhi & mask_benchmark \n",
      "    mask = mask_mod_gal & mask_zlo & mask_zhi & mask_benchmark    \n",
      "    n_passed_gal = float(tdata['MAG_AUTO_I'][mask].shape[0])\n",
      "    print n_true_passed_gal,n_passed_gal\n",
      "    purity[counter] = n_true_passed_gal/n_passed_gal\n",
      "    dpurity[counter] = 1/n_passed_gal\n",
      "    dpurity[counter] = dpurity[counter]*np.sqrt(n_true_passed_gal*(1-n_true_passed_gal/n_passed_gal)) #binomial error\n",
      "    \n",
      "    print zbin_min,'-',zbin_min + 0.2,purity[counter],'+-',dpurity[counter]\n",
      "    print\n",
      "\n",
      "plt.errorbar(zmid, purity, yerr=dpurity, c='black', linestyle=\"None\", fmt='o', \n",
      "             label='Weighted average SPREAD_MODEL in i band')\n",
      "plt.xlim([0.1,1.3])\n",
      "plt.ylim([0.95,1.0])\n",
      "plt.xlabel('Photo-z')\n",
      "plt.ylabel('Purity of galaxy sample in COSMOS field')\n",
      "plt.legend(loc='lower right')    "
     ],
     "language": "python",
     "metadata": {},
     "outputs": [
      {
       "output_type": "stream",
       "stream": "stdout",
       "text": [
        "1574.0 1582.0\n",
        "0.2 - 0.4 0.994943109987 +- 0.00178335432254\n",
        "\n",
        "1596.0 1615.0\n",
        "0.4 - 0.6 0.988235294118 +- 0.00268308514003\n",
        "\n",
        "1399.0 1429.0\n",
        "0.6 - 0.8 0.979006298111 +- 0.00379246115745\n",
        "\n",
        "1199.0 1215.0\n",
        "0.8 - 1.0 0.98683127572 +- 0.00327043231945\n",
        "\n",
        "229.0 231.0\n",
        "1.0 - 1.2 0.991341991342 +- 0.0060955762627\n",
        "\n"
       ]
      },
      {
       "metadata": {},
       "output_type": "pyout",
       "prompt_number": 49,
       "text": [
        "<matplotlib.legend.Legend at 0x7f4615860ed0>"
       ]
      },
      {
       "metadata": {},
       "output_type": "display_data",
       "png": "[encoded data removed]",
       "text": [
        "<matplotlib.figure.Figure at 0x7f4614f91690>"
       ]
      }
     ],
     "prompt_number": 49
    },
    {
     "cell_type": "code",
     "collapsed": false,
     "input": [],
     "language": "python",
     "metadata": {},
     "outputs": []
    }
   ],
   "metadata": {}
  }
 ]
}